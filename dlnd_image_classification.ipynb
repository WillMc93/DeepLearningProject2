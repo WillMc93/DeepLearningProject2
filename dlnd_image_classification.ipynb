{
 "cells": [
  {
   "cell_type": "markdown",
   "metadata": {
    "collapsed": true,
    "deletable": true,
    "editable": true
   },
   "source": [
    "# Image Classification\n",
    "In this project, you'll classify images from the [CIFAR-10 dataset](https://www.cs.toronto.edu/~kriz/cifar.html).  The dataset consists of airplanes, dogs, cats, and other objects. You'll preprocess the images, then train a convolutional neural network on all the samples. The images need to be normalized and the labels need to be one-hot encoded.  You'll get to apply what you learned and build a convolutional, max pooling, dropout, and fully connected layers.  At the end, you'll get to see your neural network's predictions on the sample images.\n",
    "## Get the Data\n",
    "Run the following cell to download the [CIFAR-10 dataset for python](https://www.cs.toronto.edu/~kriz/cifar-10-python.tar.gz)."
   ]
  },
  {
   "cell_type": "code",
   "execution_count": 1,
   "metadata": {
    "collapsed": false,
    "deletable": true,
    "editable": true
   },
   "outputs": [
    {
     "name": "stdout",
     "output_type": "stream",
     "text": [
      "All files found!\n"
     ]
    }
   ],
   "source": [
    "\"\"\"\n",
    "DON'T MODIFY ANYTHING IN THIS CELL THAT IS BELOW THIS LINE\n",
    "\"\"\"\n",
    "from urllib.request import urlretrieve\n",
    "from os.path import isfile, isdir\n",
    "from tqdm import tqdm\n",
    "import problem_unittests as tests\n",
    "import tarfile\n",
    "\n",
    "cifar10_dataset_folder_path = 'cifar-10-batches-py'\n",
    "\n",
    "class DLProgress(tqdm):\n",
    "    last_block = 0\n",
    "\n",
    "    def hook(self, block_num=1, block_size=1, total_size=None):\n",
    "        self.total = total_size\n",
    "        self.update((block_num - self.last_block) * block_size)\n",
    "        self.last_block = block_num\n",
    "\n",
    "if not isfile('cifar-10-python.tar.gz'):\n",
    "    with DLProgress(unit='B', unit_scale=True, miniters=1, desc='CIFAR-10 Dataset') as pbar:\n",
    "        urlretrieve(\n",
    "            'https://www.cs.toronto.edu/~kriz/cifar-10-python.tar.gz',\n",
    "            'cifar-10-python.tar.gz',\n",
    "            pbar.hook)\n",
    "\n",
    "if not isdir(cifar10_dataset_folder_path):\n",
    "    with tarfile.open('cifar-10-python.tar.gz') as tar:\n",
    "        tar.extractall()\n",
    "        tar.close()\n",
    "\n",
    "\n",
    "tests.test_folder_path(cifar10_dataset_folder_path)"
   ]
  },
  {
   "cell_type": "markdown",
   "metadata": {
    "deletable": true,
    "editable": true
   },
   "source": [
    "## Explore the Data\n",
    "The dataset is broken into batches to prevent your machine from running out of memory.  The CIFAR-10 dataset consists of 5 batches, named `data_batch_1`, `data_batch_2`, etc.. Each batch contains the labels and images that are one of the following:\n",
    "* airplane\n",
    "* automobile\n",
    "* bird\n",
    "* cat\n",
    "* deer\n",
    "* dog\n",
    "* frog\n",
    "* horse\n",
    "* ship\n",
    "* truck\n",
    "\n",
    "Understanding a dataset is part of making predictions on the data.  Play around with the code cell below by changing the `batch_id` and `sample_id`. The `batch_id` is the id for a batch (1-5). The `sample_id` is the id for a image and label pair in the batch.\n",
    "\n",
    "Ask yourself \"What are all possible labels?\", \"What is the range of values for the image data?\", \"Are the labels in order or random?\".  Answers to questions like these will help you preprocess the data and end up with better predictions."
   ]
  },
  {
   "cell_type": "code",
   "execution_count": 2,
   "metadata": {
    "collapsed": false,
    "deletable": true,
    "editable": true
   },
   "outputs": [
    {
     "name": "stdout",
     "output_type": "stream",
     "text": [
      "\n",
      "Stats of batch 1:\n",
      "Samples: 10000\n",
      "Label Counts: {0: 1005, 1: 974, 2: 1032, 3: 1016, 4: 999, 5: 937, 6: 1030, 7: 1001, 8: 1025, 9: 981}\n",
      "First 20 Labels: [6, 9, 9, 4, 1, 1, 2, 7, 8, 3, 4, 7, 7, 2, 9, 9, 9, 3, 2, 6]\n",
      "\n",
      "Example of Image 5:\n",
      "Image - Min Value: 0 Max Value: 252\n",
      "Image - Shape: (32, 32, 3)\n",
      "Label - Label Id: 1 Name: automobile\n"
     ]
    },
    {
     "data": {
      "image/png": "[encoded data removed]",
      "text/plain": [
       "<matplotlib.figure.Figure at 0x7f884131d6d8>"
      ]
     },
     "metadata": {
      "image/png": {
       "height": 250,
       "width": 253
      }
     },
     "output_type": "display_data"
    }
   ],
   "source": [
    "%matplotlib inline\n",
    "%config InlineBackend.figure_format = 'retina'\n",
    "\n",
    "import helper\n",
    "import numpy as np\n",
    "\n",
    "# Explore the dataset\n",
    "batch_id = 1\n",
    "sample_id = 5\n",
    "helper.display_stats(cifar10_dataset_folder_path, batch_id, sample_id)"
   ]
  },
  {
   "cell_type": "markdown",
   "metadata": {
    "deletable": true,
    "editable": true
   },
   "source": [
    "## Implement Preprocess Functions\n",
    "### Normalize\n",
    "In the cell below, implement the `normalize` function to take in image data, `x`, and return it as a normalized Numpy array. The values should be in the range of 0 to 1, inclusive.  The return object should be the same shape as `x`."
   ]
  },
  {
   "cell_type": "code",
   "execution_count": 3,
   "metadata": {
    "collapsed": false,
    "deletable": true,
    "editable": true
   },
   "outputs": [
    {
     "name": "stdout",
     "output_type": "stream",
     "text": [
      "Tests Passed\n"
     ]
    }
   ],
   "source": [
    "def normalize(x):\n",
    "    \"\"\"\n",
    "    Normalize a list of sample image data in the range of 0 to 1\n",
    "    : x: List of image data.  The image shape is (32, 32, 3)\n",
    "    : return: Numpy array of normalize data\n",
    "    \"\"\"\n",
    "    # TODO: Implement Function\n",
    "    return (x - np.min(x)) / (np.max(x) - np.min(x))\n",
    "\n",
    "\"\"\"\n",
    "DON'T MODIFY ANYTHING IN THIS CELL THAT IS BELOW THIS LINE\n",
    "\"\"\"\n",
    "tests.test_normalize(normalize)"
   ]
  },
  {
   "cell_type": "markdown",
   "metadata": {
    "deletable": true,
    "editable": true
   },
   "source": [
    "### One-hot encode\n",
    "Just like the previous code cell, you'll be implementing a function for preprocessing.  This time, you'll implement the `one_hot_encode` function. The input, `x`, are a list of labels.  Implement the function to return the list of labels as One-Hot encoded Numpy array.  The possible values for labels are 0 to 9. The one-hot encoding function should return the same encoding for each value between each call to `one_hot_encode`.  Make sure to save the map of encodings outside the function.\n",
    "\n",
    "Hint: Don't reinvent the wheel."
   ]
  },
  {
   "cell_type": "code",
   "execution_count": 4,
   "metadata": {
    "collapsed": false,
    "deletable": true,
    "editable": true
   },
   "outputs": [
    {
     "name": "stdout",
     "output_type": "stream",
     "text": [
      "Tests Passed\n"
     ]
    }
   ],
   "source": [
    "# Looking at the forum I see that I may have reinvented that wheel.\n",
    "\n",
    "def one_hot_encode(x):\n",
    "    \"\"\"\n",
    "    One hot encode a list of sample labels. Return a one-hot encoded vector for each label.\n",
    "    : x: List of sample Labels\n",
    "    : return: Numpy array of one-hot encoded labels\n",
    "    \"\"\"\n",
    "    # TODO: Implement Function\n",
    "    out = np.zeros((len(x), 10))\n",
    "    i = 0\n",
    "    for num in x:\n",
    "        out[i][num] = 1\n",
    "        i += 1\n",
    "    return out\n",
    "\n",
    "\n",
    "\"\"\"\n",
    "DON'T MODIFY ANYTHING IN THIS CELL THAT IS BELOW THIS LINE\n",
    "\"\"\"\n",
    "tests.test_one_hot_encode(one_hot_encode)"
   ]
  },
  {
   "cell_type": "markdown",
   "metadata": {
    "deletable": true,
    "editable": true
   },
   "source": [
    "### Randomize Data\n",
    "As you saw from exploring the data above, the order of the samples are randomized.  It doesn't hurt to randomize it again, but you don't need to for this dataset."
   ]
  },
  {
   "cell_type": "markdown",
   "metadata": {
    "deletable": true,
    "editable": true
   },
   "source": [
    "## Preprocess all the data and save it\n",
    "Running the code cell below will preprocess all the CIFAR-10 data and save it to file. The code below also uses 10% of the training data for validation."
   ]
  },
  {
   "cell_type": "code",
   "execution_count": 5,
   "metadata": {
    "collapsed": false,
    "deletable": true,
    "editable": true
   },
   "outputs": [],
   "source": [
    "\"\"\"\n",
    "DON'T MODIFY ANYTHING IN THIS CELL\n",
    "\"\"\"\n",
    "# Preprocess Training, Validation, and Testing Data\n",
    "helper.preprocess_and_save_data(cifar10_dataset_folder_path, normalize, one_hot_encode)"
   ]
  },
  {
   "cell_type": "markdown",
   "metadata": {
    "deletable": true,
    "editable": true
   },
   "source": [
    "# Check Point\n",
    "This is your first checkpoint.  If you ever decide to come back to this notebook or have to restart the notebook, you can start from here.  The preprocessed data has been saved to disk."
   ]
  },
  {
   "cell_type": "code",
   "execution_count": 6,
   "metadata": {
    "collapsed": true,
    "deletable": true,
    "editable": true
   },
   "outputs": [],
   "source": [
    "\"\"\"\n",
    "DON'T MODIFY ANYTHING IN THIS CELL\n",
    "\"\"\"\n",
    "import pickle\n",
    "import problem_unittests as tests\n",
    "import helper\n",
    "\n",
    "# Load the Preprocessed Validation data\n",
    "valid_features, valid_labels = pickle.load(open('preprocess_validation.p', mode='rb'))"
   ]
  },
  {
   "cell_type": "markdown",
   "metadata": {
    "deletable": true,
    "editable": true
   },
   "source": [
    "## Build the network\n",
    "For the neural network, you'll build each layer into a function.  Most of the code you've seen has been outside of functions. To test your code more thoroughly, we require that you put each layer in a function.  This allows us to give you better feedback and test for simple mistakes using our unittests before you submit your project.\n",
    "\n",
    "If you're finding it hard to dedicate enough time for this course a week, we've provided a small shortcut to this part of the project. In the next couple of problems, you'll have the option to use [TensorFlow Layers](https://www.tensorflow.org/api_docs/python/tf/layers) or [TensorFlow Layers (contrib)](https://www.tensorflow.org/api_guides/python/contrib.layers) to build each layer, except \"Convolutional & Max Pooling\" layer.  TF Layers is similar to Keras's and TFLearn's abstraction to layers, so it's easy to pickup.\n",
    "\n",
    "If you would like to get the most of this course, try to solve all the problems without TF Layers.  Let's begin!\n",
    "### Input\n",
    "The neural network needs to read the image data, one-hot encoded labels, and dropout keep probability. Implement the following functions\n",
    "* Implement `neural_net_image_input`\n",
    " * Return a [TF Placeholder](https://www.tensorflow.org/api_docs/python/tf/placeholder)\n",
    " * Set the shape using `image_shape` with batch size set to `None`.\n",
    " * Name the TensorFlow placeholder \"x\" using the TensorFlow `name` parameter in the [TF Placeholder](https://www.tensorflow.org/api_docs/python/tf/placeholder).\n",
    "* Implement `neural_net_label_input`\n",
    " * Return a [TF Placeholder](https://www.tensorflow.org/api_docs/python/tf/placeholder)\n",
    " * Set the shape using `n_classes` with batch size set to `None`.\n",
    " * Name the TensorFlow placeholder \"y\" using the TensorFlow `name` parameter in the [TF Placeholder](https://www.tensorflow.org/api_docs/python/tf/placeholder).\n",
    "* Implement `neural_net_keep_prob_input`\n",
    " * Return a [TF Placeholder](https://www.tensorflow.org/api_docs/python/tf/placeholder) for dropout keep probability.\n",
    " * Name the TensorFlow placeholder \"keep_prob\" using the TensorFlow `name` parameter in the [TF Placeholder](https://www.tensorflow.org/api_docs/python/tf/placeholder).\n",
    "\n",
    "These names will be used at the end of the project to load your saved model.\n",
    "\n",
    "Note: `None` for shapes in TensorFlow allow for a dynamic size."
   ]
  },
  {
   "cell_type": "code",
   "execution_count": 7,
   "metadata": {
    "collapsed": false,
    "deletable": true,
    "editable": true
   },
   "outputs": [
    {
     "name": "stdout",
     "output_type": "stream",
     "text": [
      "Image Input Tests Passed.\n",
      "Label Input Tests Passed.\n",
      "Keep Prob Tests Passed.\n"
     ]
    }
   ],
   "source": [
    "import tensorflow as tf\n",
    "\n",
    "def neural_net_image_input(image_shape):\n",
    "    \"\"\"\n",
    "    Return a Tensor for a bach of image input\n",
    "    : image_shape: Shape of the images\n",
    "    : return: Tensor for image input.\n",
    "    \"\"\"\n",
    "    # TODO: Implement Function\n",
    "    shapeu = (None, image_shape[0], image_shape[1], image_shape[2])\n",
    "    return tf.placeholder(dtype = tf.float32, shape = shapeu, name = 'x')\n",
    "    \n",
    "def neural_net_label_input(n_classes):\n",
    "    \"\"\"\n",
    "    Return a Tensor for a batch of label input\n",
    "    : n_classes: Number of classes\n",
    "    : return: Tensor for label input.\n",
    "    \"\"\"\n",
    "    # TODO: Implement Function\n",
    "    return tf.placeholder(dtype = tf.float32, shape = (None, n_classes), name = 'y')\n",
    "\n",
    "\n",
    "def neural_net_keep_prob_input():\n",
    "    \"\"\"\n",
    "    Return a Tensor for keep probability\n",
    "    : return: Tensor for keep probability.\n",
    "    \"\"\"\n",
    "    # TODO: Implement Function\n",
    "    return tf.placeholder(dtype = tf.float32, name = 'keep_prob')\n",
    "\n",
    "\n",
    "\"\"\"\n",
    "DON'T MODIFY ANYTHING IN THIS CELL THAT IS BELOW THIS LINE\n",
    "\"\"\"\n",
    "tf.reset_default_graph()\n",
    "tests.test_nn_image_inputs(neural_net_image_input)\n",
    "tests.test_nn_label_inputs(neural_net_label_input)\n",
    "tests.test_nn_keep_prob_inputs(neural_net_keep_prob_input)"
   ]
  },
  {
   "cell_type": "markdown",
   "metadata": {
    "deletable": true,
    "editable": true
   },
   "source": [
    "### Convolution and Max Pooling Layer\n",
    "Convolution layers have a lot of success with images. For this code cell, you should implement the function `conv2d_maxpool` to apply convolution then max pooling:\n",
    "* Create the weight and bias using `conv_ksize`, `conv_num_outputs` and the shape of `x_tensor`.\n",
    "* Apply a convolution to `x_tensor` using weight and `conv_strides`.\n",
    " * We recommend you use same padding, but you're welcome to use any padding.\n",
    "* Add bias\n",
    "* Add a nonlinear activation to the convolution.\n",
    "* Apply Max Pooling using `pool_ksize` and `pool_strides`.\n",
    " * We recommend you use same padding, but you're welcome to use any padding.\n",
    "\n",
    "Note: You **can't** use [TensorFlow Layers](https://www.tensorflow.org/api_docs/python/tf/layers) or [TensorFlow Layers (contrib)](https://www.tensorflow.org/api_guides/python/contrib.layers) for this layer.  You're free to use any TensorFlow package for all the other layers."
   ]
  },
  {
   "cell_type": "code",
   "execution_count": 8,
   "metadata": {
    "collapsed": false,
    "deletable": true,
    "editable": true
   },
   "outputs": [
    {
     "name": "stdout",
     "output_type": "stream",
     "text": [
      "Tests Passed\n"
     ]
    }
   ],
   "source": [
    "def conv2d_maxpool(x_tensor, conv_num_outputs, conv_ksize, conv_strides, pool_ksize, pool_strides):\n",
    "    \"\"\"\n",
    "    Apply convolution then max pooling to x_tensor\n",
    "    :param x_tensor: TensorFlow Tensor\n",
    "    :param conv_num_outputs: Number of outputs for the convolutional layer\n",
    "    :param conv_ksize: kernal size 2-D Tuple for the convolutional layer\n",
    "    :param conv_strides: Stride 2-D Tuple for convolution\n",
    "    :param pool_ksize: kernal size 2-D Tuple for pool\n",
    "    :param pool_strides: Stride 2-D Tuple for pool\n",
    "    : return: A tensor that represents convolution and max pooling of x_tensor\n",
    "    \"\"\"\n",
    "    # TODO: Implement Function\n",
    "    \n",
    "    shape = x_tensor.get_shape().as_list()\n",
    " \n",
    "    weights = tf.Variable(tf.truncated_normal((conv_ksize[0], conv_ksize[1], shape[3], conv_num_outputs), stddev = 0.05, dtype = tf.float32))\n",
    "    bias = tf.Variable(tf.zeros(conv_num_outputs))\n",
    "    \n",
    "    \n",
    "    # Convolute (Ugh, this method is so . . . *convoluted*! Get it, get it? You get it.)\n",
    "    conv_layer = tf.nn.conv2d(x_tensor, weights,\n",
    "                              strides = [1, conv_strides[0], conv_strides[1], 1], padding = 'SAME')\n",
    "    conv_layer = tf.nn.bias_add(conv_layer, bias)\n",
    "    conv_layer = tf.nn.relu(conv_layer)\n",
    "    maxpool_layer = tf.nn.max_pool(conv_layer, ksize= [1, pool_ksize[0], pool_ksize[1], 1],\n",
    "                                strides = [1, pool_strides[0], pool_strides[1], 1], padding = 'SAME')\n",
    "    \n",
    "    return maxpool_layer\n",
    "    \n",
    "\n",
    "\n",
    "\"\"\"\n",
    "DON'T MODIFY ANYTHING IN THIS CELL THAT IS BELOW THIS LINE\n",
    "\"\"\"\n",
    "tests.test_con_pool(conv2d_maxpool)"
   ]
  },
  {
   "cell_type": "markdown",
   "metadata": {
    "deletable": true,
    "editable": true
   },
   "source": [
    "### Flatten Layer\n",
    "Implement the `flatten` function to change the dimension of `x_tensor` from a 4-D tensor to a 2-D tensor.  The output should be the shape (*Batch Size*, *Flattened Image Size*). You can use [TensorFlow Layers](https://www.tensorflow.org/api_docs/python/tf/layers) or [TensorFlow Layers (contrib)](https://www.tensorflow.org/api_guides/python/contrib.layers) for this layer."
   ]
  },
  {
   "cell_type": "code",
   "execution_count": 9,
   "metadata": {
    "collapsed": false,
    "deletable": true,
    "editable": true
   },
   "outputs": [
    {
     "name": "stdout",
     "output_type": "stream",
     "text": [
      "Tests Passed\n"
     ]
    }
   ],
   "source": [
    "def flatten(x_tensor):\n",
    "    \"\"\"\n",
    "    Flatten x_tensor to (Batch Size, Flattened Image Size)\n",
    "    : x_tensor: A tensor of size (Batch Size, ...), where ... are the image dimensions.\n",
    "    : return: A tensor of size (Batch Size, Flattened Image Size).\n",
    "    \"\"\"\n",
    "    # TODO: Implement Function\n",
    "    # Using Siraj's method\n",
    "    #shape = x_tensor.get_shape()\n",
    "    #print(shape)\n",
    "    #features = shape[1:4].num_elements()\n",
    "    #print(features)\n",
    "    #flat = tf.reshape(x_tensor, [-1, features])\n",
    "    #print(flat.get_shape())\n",
    "    \n",
    "    # *Reads API; slaps forehead*\n",
    "    \n",
    "    return tf.contrib.layers.flatten(x_tensor)\n",
    "\n",
    "\n",
    "\"\"\"\n",
    "DON'T MODIFY ANYTHING IN THIS CELL THAT IS BELOW THIS LINE\n",
    "\"\"\"\n",
    "tests.test_flatten(flatten)"
   ]
  },
  {
   "cell_type": "markdown",
   "metadata": {
    "deletable": true,
    "editable": true
   },
   "source": [
    "### Fully-Connected Layer\n",
    "Implement the `fully_conn` function to apply a fully connected layer to `x_tensor` with the shape (*Batch Size*, *num_outputs*). You can use [TensorFlow Layers](https://www.tensorflow.org/api_docs/python/tf/layers) or [TensorFlow Layers (contrib)](https://www.tensorflow.org/api_guides/python/contrib.layers) for this layer."
   ]
  },
  {
   "cell_type": "code",
   "execution_count": 10,
   "metadata": {
    "collapsed": false,
    "deletable": true,
    "editable": true
   },
   "outputs": [
    {
     "name": "stdout",
     "output_type": "stream",
     "text": [
      "Tests Passed\n"
     ]
    }
   ],
   "source": [
    "def fully_conn(x_tensor, num_outputs):\n",
    "    \"\"\"\n",
    "    Apply a fully connected layer to x_tensor using weight and bias\n",
    "    : x_tensor: A 2-D tensor where the first dimension is batch size.\n",
    "    : num_outputs: The number of output that the new tensor should be.\n",
    "    : return: A 2-D tensor where the second dimension is num_outputs.\n",
    "    \"\"\"\n",
    "    # TODO: Implement Function\n",
    "    #shape = x_tensor.get_shape().as_list()\n",
    "    #weights = tf.Variable(tf.truncated_normal((shape[1], num_outputs), stddev = 0.05))\n",
    "    #biases = tf.Variable(tf.zeros(num_outputs))\n",
    "    #layer = tf.matmul(x_tensor, weights) + biases\n",
    "    #layer = tf.nn.relu(layer)\n",
    "    layer = tf.contrib.layers.fully_connected(x_tensor, num_outputs, activation_fn = tf.nn.relu)\n",
    "    return layer\n",
    "\n",
    "\n",
    "\"\"\"\n",
    "DON'T MODIFY ANYTHING IN THIS CELL THAT IS BELOW THIS LINE\n",
    "\"\"\"\n",
    "tests.test_fully_conn(fully_conn)"
   ]
  },
  {
   "cell_type": "markdown",
   "metadata": {
    "deletable": true,
    "editable": true
   },
   "source": [
    "### Output Layer\n",
    "Implement the `output` function to apply a fully connected layer to `x_tensor` with the shape (*Batch Size*, *num_outputs*). You can use [TensorFlow Layers](https://www.tensorflow.org/api_docs/python/tf/layers) or [TensorFlow Layers (contrib)](https://www.tensorflow.org/api_guides/python/contrib.layers) for this layer.\n",
    "\n",
    "Note: Activation, softmax, or cross entropy shouldn't be applied to this."
   ]
  },
  {
   "cell_type": "code",
   "execution_count": 11,
   "metadata": {
    "collapsed": false,
    "deletable": true,
    "editable": true
   },
   "outputs": [
    {
     "name": "stdout",
     "output_type": "stream",
     "text": [
      "Tests Passed\n"
     ]
    }
   ],
   "source": [
    "def output(x_tensor, num_outputs):\n",
    "    \"\"\"\n",
    "    Apply a output layer to x_tensor using weight and bias\n",
    "    : x_tensor: A 2-D tensor where the first dimension is batch size.\n",
    "    : num_outputs: The number of output that the new tensor should be.\n",
    "    : return: A 2-D tensor where the second dimension is num_outputs.\n",
    "    \"\"\"\n",
    "    # TODO: Implement Function\n",
    "    #shape = x_tensor.get_shape().as_list()\n",
    "    #weights = tf.Variable(tf.truncated_normal((shape[1], num_outputs), stddev = 0.05))\n",
    "    #biases = tf.Variable(tf.zeros(num_outputs))\n",
    "    #layer = tf.matmul(x_tensor, weights) + biases\n",
    "    return tf.contrib.layers.fully_connected(x_tensor, num_outputs, activation_fn = None)\n",
    "\n",
    "\n",
    "\"\"\"\n",
    "DON'T MODIFY ANYTHING IN THIS CELL THAT IS BELOW THIS LINE\n",
    "\"\"\"\n",
    "tests.test_output(output)"
   ]
  },
  {
   "cell_type": "markdown",
   "metadata": {
    "deletable": true,
    "editable": true
   },
   "source": [
    "### Create Convolutional Model\n",
    "Implement the function `conv_net` to create a convolutional neural network model. The function takes in a batch of images, `x`, and outputs logits.  Use the layers you created above to create this model:\n",
    "\n",
    "* Apply 1, 2, or 3 Convolution and Max Pool layers\n",
    "* Apply a Flatten Layer\n",
    "* Apply 1, 2, or 3 Fully Connected Layers\n",
    "* Apply an Output Layer\n",
    "* Return the output\n",
    "* Apply [TensorFlow's Dropout](https://www.tensorflow.org/api_docs/python/tf/nn/dropout) to one or more layers in the model using `keep_prob`. "
   ]
  },
  {
   "cell_type": "code",
   "execution_count": 12,
   "metadata": {
    "collapsed": false,
    "deletable": true,
    "editable": true
   },
   "outputs": [
    {
     "name": "stdout",
     "output_type": "stream",
     "text": [
      "Neural Network Built!\n"
     ]
    }
   ],
   "source": [
    "def conv_net(x, keep_prob):\n",
    "    \"\"\"\n",
    "    Create a convolutional neural network model\n",
    "    : x: Placeholder tensor that holds image data.\n",
    "    : keep_prob: Placeholder tensor that hold dropout keep probability.\n",
    "    : return: Tensor that represents logits\n",
    "    \"\"\"\n",
    "    # TODO: Apply 1, 2, or 3 Convolution and Max Pool layers\n",
    "    #    Play around with different number of outputs, kernel size and stride\n",
    "    # Function Definition from Above:\n",
    "    #    conv2d_maxpool(x_tensor, conv_num_outputs, conv_ksize, conv_strides, pool_ksize, pool_strides)\n",
    "    # Values for conv_num_outputs, conv_ksize, conv_strides, pool_ksize and pool_strides\n",
    "    #    found looking around on the forum.\n",
    "    x = conv2d_maxpool(x, 32, (3, 3), (1, 1), (2, 2), (2, 2))\n",
    "    x = conv2d_maxpool(x, 176, (3, 3), (1, 1), (2, 2), (2, 2))\n",
    "\n",
    "    # TODO: Apply a Flatten Layer\n",
    "    # Function Definition from Above:\n",
    "    #   flatten(x_tensor)\n",
    "    x = flatten(x)\n",
    "    \n",
    "\n",
    "    # TODO: Apply 1, 2, or 3 Fully Connected Layers\n",
    "    #    Play around with different number of outputs\n",
    "    # Function Definition from Above:\n",
    "    #   fully_conn(x_tensor, num_outputs)\n",
    "    x = fully_conn(x, 512)\n",
    "    x = tf.nn.dropout(x, keep_prob)\n",
    "    x = fully_conn(x, 256)\n",
    "    x = tf.nn.dropout(x, keep_prob)\n",
    "    x = fully_conn(x, 128)\n",
    "    x = tf.nn.dropout(x, keep_prob)\n",
    "    \n",
    "    \n",
    "    # TODO: Apply an Output Layer\n",
    "    #    Set this to the number of classes\n",
    "    # Function Definition from Above:\n",
    "    #   output(x_tensor, num_outputs)\n",
    "    x = output(x, 10)\n",
    "    \n",
    "    \n",
    "    # TODO: return output\n",
    "    return x\n",
    "\n",
    "\n",
    "\"\"\"\n",
    "DON'T MODIFY ANYTHING IN THIS CELL THAT IS BELOW THIS LINE\n",
    "\"\"\"\n",
    "\n",
    "##############################\n",
    "## Build the Neural Network ##\n",
    "##############################\n",
    "\n",
    "# Remove previous weights, bias, inputs, etc..\n",
    "tf.reset_default_graph()\n",
    "\n",
    "# Inputs\n",
    "x = neural_net_image_input((32, 32, 3))\n",
    "y = neural_net_label_input(10)\n",
    "keep_prob = neural_net_keep_prob_input()\n",
    "\n",
    "# Model\n",
    "logits = conv_net(x, keep_prob)\n",
    "\n",
    "# Name logits Tensor, so that is can be loaded from disk after training\n",
    "logits = tf.identity(logits, name='logits')\n",
    "\n",
    "# Loss and Optimizer\n",
    "cost = tf.reduce_mean(tf.nn.softmax_cross_entropy_with_logits(logits=logits, labels=y))\n",
    "optimizer = tf.train.AdamOptimizer().minimize(cost)\n",
    "\n",
    "# Accuracy\n",
    "correct_pred = tf.equal(tf.argmax(logits, 1), tf.argmax(y, 1))\n",
    "accuracy = tf.reduce_mean(tf.cast(correct_pred, tf.float32), name='accuracy')\n",
    "\n",
    "tests.test_conv_net(conv_net)"
   ]
  },
  {
   "cell_type": "markdown",
   "metadata": {
    "deletable": true,
    "editable": true
   },
   "source": [
    "## Train the Neural Network\n",
    "### Single Optimization\n",
    "Implement the function `train_neural_network` to do a single optimization.  The optimization should use `optimizer` to optimize in `session` with a `feed_dict` of the following:\n",
    "* `x` for image input\n",
    "* `y` for labels\n",
    "* `keep_prob` for keep probability for dropout\n",
    "\n",
    "This function will be called for each batch, so `tf.global_variables_initializer()` has already been called.\n",
    "\n",
    "Note: Nothing needs to be returned. This function is only optimizing the neural network."
   ]
  },
  {
   "cell_type": "code",
   "execution_count": 13,
   "metadata": {
    "collapsed": false,
    "deletable": true,
    "editable": true
   },
   "outputs": [
    {
     "name": "stdout",
     "output_type": "stream",
     "text": [
      "Tests Passed\n"
     ]
    }
   ],
   "source": [
    "def train_neural_network(session, optimizer, keep_probability, feature_batch, label_batch):\n",
    "    \"\"\"\n",
    "    Optimize the session on a batch of images and labels\n",
    "    : session: Current TensorFlow session\n",
    "    : optimizer: TensorFlow optimizer function\n",
    "    : keep_probability: keep probability\n",
    "    : feature_batch: Batch of Numpy image data\n",
    "    : label_batch: Batch of Numpy label data\n",
    "    \"\"\"\n",
    "    # TODO: Implement Function\n",
    "    session.run(optimizer, feed_dict = {x: feature_batch, y: label_batch, keep_prob: keep_probability})\n",
    "    #pass\n",
    "\n",
    "\n",
    "\"\"\"\n",
    "DON'T MODIFY ANYTHING IN THIS CELL THAT IS BELOW THIS LINE\n",
    "\"\"\"\n",
    "tests.test_train_nn(train_neural_network)"
   ]
  },
  {
   "cell_type": "markdown",
   "metadata": {
    "deletable": true,
    "editable": true
   },
   "source": [
    "### Show Stats\n",
    "Implement the function `print_stats` to print loss and validation accuracy.  Use the global variables `valid_features` and `valid_labels` to calculate validation accuracy.  Use a keep probability of `1.0` to calculate the loss and validation accuracy."
   ]
  },
  {
   "cell_type": "code",
   "execution_count": 14,
   "metadata": {
    "collapsed": false,
    "deletable": true,
    "editable": true
   },
   "outputs": [],
   "source": [
    "def print_stats(session, feature_batch, label_batch, cost, accuracy):\n",
    "    \"\"\"\n",
    "    Print information about loss and validation accuracy\n",
    "    : session: Current TensorFlow session\n",
    "    : feature_batch: Batch of Numpy image data\n",
    "    : label_batch: Batch of Numpy label data\n",
    "    : cost: TensorFlow cost function\n",
    "    : accuracy: TensorFlow accuracy function\n",
    "    \"\"\"\n",
    "    # TODO: Implement Function\n",
    "    loss = session.run(cost, feed_dict = {x: feature_batch, y: label_batch, keep_prob: 1.})\n",
    "    acc = session.run(cost, feed_dict = {x: valid_features, y: valid_labels, keep_prob: 1.})\n",
    "    \n",
    "    print('Loss: {:>2.4f}  Accuracy: {:>2.4f}'.format(loss, acc))"
   ]
  },
  {
   "cell_type": "markdown",
   "metadata": {
    "deletable": true,
    "editable": true
   },
   "source": [
    "### Hyperparameters\n",
    "Tune the following parameters:\n",
    "* Set `epochs` to the number of iterations until the network stops learning or start overfitting\n",
    "* Set `batch_size` to the highest number that your machine has memory for.  Most people set them to common sizes of memory:\n",
    " * 64\n",
    " * 128\n",
    " * 256\n",
    " * ...\n",
    "* Set `keep_probability` to the probability of keeping a node using dropout"
   ]
  },
  {
   "cell_type": "code",
   "execution_count": 15,
   "metadata": {
    "collapsed": true,
    "deletable": true,
    "editable": true
   },
   "outputs": [],
   "source": [
    "# TODO: Tune Parameters\n",
    "epochs = 30\n",
    "batch_size = 256\n",
    "keep_probability = 0.75"
   ]
  },
  {
   "cell_type": "markdown",
   "metadata": {
    "deletable": true,
    "editable": true
   },
   "source": [
    "### Train on a Single CIFAR-10 Batch\n",
    "Instead of training the neural network on all the CIFAR-10 batches of data, let's use a single batch. This should save time while you iterate on the model to get a better accuracy.  Once the final validation accuracy is 50% or greater, run the model on all the data in the next section."
   ]
  },
  {
   "cell_type": "code",
   "execution_count": 16,
   "metadata": {
    "collapsed": false,
    "deletable": true,
    "editable": true
   },
   "outputs": [
    {
     "name": "stdout",
     "output_type": "stream",
     "text": [
      "Checking the Training on a Single Batch...\n",
      "Epoch  1, CIFAR-10 Batch 1:  Loss: 2.1082  Accuracy: 1.9118\n",
      "Epoch  2, CIFAR-10 Batch 1:  Loss: 1.7509  Accuracy: 1.6473\n",
      "Epoch  3, CIFAR-10 Batch 1:  Loss: 1.4293  Accuracy: 1.4618\n",
      "Epoch  4, CIFAR-10 Batch 1:  Loss: 1.1499  Accuracy: 1.3625\n",
      "Epoch  5, CIFAR-10 Batch 1:  Loss: 0.9848  Accuracy: 1.3281\n",
      "Epoch  6, CIFAR-10 Batch 1:  Loss: 0.6962  Accuracy: 1.2232\n",
      "Epoch  7, CIFAR-10 Batch 1:  Loss: 0.5476  Accuracy: 1.2005\n",
      "Epoch  8, CIFAR-10 Batch 1:  Loss: 0.4118  Accuracy: 1.1889\n",
      "Epoch  9, CIFAR-10 Batch 1:  Loss: 0.3434  Accuracy: 1.2819\n",
      "Epoch 10, CIFAR-10 Batch 1:  Loss: 0.2532  Accuracy: 1.3358\n",
      "Epoch 11, CIFAR-10 Batch 1:  Loss: 0.1491  Accuracy: 1.2043\n",
      "Epoch 12, CIFAR-10 Batch 1:  Loss: 0.1077  Accuracy: 1.1778\n",
      "Epoch 13, CIFAR-10 Batch 1:  Loss: 0.0657  Accuracy: 1.2953\n",
      "Epoch 14, CIFAR-10 Batch 1:  Loss: 0.0316  Accuracy: 1.3626\n",
      "Epoch 15, CIFAR-10 Batch 1:  Loss: 0.0361  Accuracy: 1.4019\n",
      "Epoch 16, CIFAR-10 Batch 1:  Loss: 0.0143  Accuracy: 1.4352\n",
      "Epoch 17, CIFAR-10 Batch 1:  Loss: 0.0190  Accuracy: 1.4955\n",
      "Epoch 18, CIFAR-10 Batch 1:  Loss: 0.0097  Accuracy: 1.5894\n",
      "Epoch 19, CIFAR-10 Batch 1:  Loss: 0.0084  Accuracy: 1.6558\n",
      "Epoch 20, CIFAR-10 Batch 1:  Loss: 0.0060  Accuracy: 1.7271\n",
      "Epoch 21, CIFAR-10 Batch 1:  Loss: 0.0032  Accuracy: 1.7738\n",
      "Epoch 22, CIFAR-10 Batch 1:  Loss: 0.0081  Accuracy: 1.8007\n",
      "Epoch 23, CIFAR-10 Batch 1:  Loss: 0.0018  Accuracy: 1.8070\n",
      "Epoch 24, CIFAR-10 Batch 1:  Loss: 0.0013  Accuracy: 1.8851\n",
      "Epoch 25, CIFAR-10 Batch 1:  Loss: 0.0010  Accuracy: 2.0749\n",
      "Epoch 26, CIFAR-10 Batch 1:  Loss: 0.0005  Accuracy: 1.9531\n",
      "Epoch 27, CIFAR-10 Batch 1:  Loss: 0.0004  Accuracy: 1.9796\n",
      "Epoch 28, CIFAR-10 Batch 1:  Loss: 0.0004  Accuracy: 2.1018\n",
      "Epoch 29, CIFAR-10 Batch 1:  Loss: 0.0005  Accuracy: 2.1832\n",
      "Epoch 30, CIFAR-10 Batch 1:  Loss: 0.0003  Accuracy: 2.1801\n"
     ]
    }
   ],
   "source": [
    "\"\"\"\n",
    "DON'T MODIFY ANYTHING IN THIS CELL\n",
    "\"\"\"\n",
    "print('Checking the Training on a Single Batch...')\n",
    "with tf.Session() as sess:\n",
    "    # Initializing the variables\n",
    "    sess.run(tf.global_variables_initializer())\n",
    "    \n",
    "    # Training cycle\n",
    "    for epoch in range(epochs):\n",
    "        batch_i = 1\n",
    "        for batch_features, batch_labels in helper.load_preprocess_training_batch(batch_i, batch_size):\n",
    "            train_neural_network(sess, optimizer, keep_probability, batch_features, batch_labels)\n",
    "        print('Epoch {:>2}, CIFAR-10 Batch {}:  '.format(epoch + 1, batch_i), end='')\n",
    "        print_stats(sess, batch_features, batch_labels, cost, accuracy)"
   ]
  },
  {
   "cell_type": "markdown",
   "metadata": {
    "deletable": true,
    "editable": true
   },
   "source": [
    "### Fully Train the Model\n",
    "Now that you got a good accuracy with a single CIFAR-10 batch, try it with all five batches."
   ]
  },
  {
   "cell_type": "code",
   "execution_count": 17,
   "metadata": {
    "collapsed": false,
    "deletable": true,
    "editable": true
   },
   "outputs": [
    {
     "name": "stdout",
     "output_type": "stream",
     "text": [
      "Training...\n",
      "Epoch  1, CIFAR-10 Batch 1:  Loss: 2.1002  Accuracy: 1.9298\n",
      "Epoch  1, CIFAR-10 Batch 2:  Loss: 1.5689  Accuracy: 1.6707\n",
      "Epoch  1, CIFAR-10 Batch 3:  Loss: 1.3840  Accuracy: 1.4794\n",
      "Epoch  1, CIFAR-10 Batch 4:  Loss: 1.3921  Accuracy: 1.3849\n",
      "Epoch  1, CIFAR-10 Batch 5:  Loss: 1.2720  Accuracy: 1.3058\n",
      "Epoch  2, CIFAR-10 Batch 1:  Loss: 1.3532  Accuracy: 1.2751\n",
      "Epoch  2, CIFAR-10 Batch 2:  Loss: 0.9931  Accuracy: 1.2067\n",
      "Epoch  2, CIFAR-10 Batch 3:  Loss: 0.8461  Accuracy: 1.2064\n",
      "Epoch  2, CIFAR-10 Batch 4:  Loss: 0.8815  Accuracy: 1.1320\n",
      "Epoch  2, CIFAR-10 Batch 5:  Loss: 0.8100  Accuracy: 1.1069\n",
      "Epoch  3, CIFAR-10 Batch 1:  Loss: 0.8560  Accuracy: 1.0457\n",
      "Epoch  3, CIFAR-10 Batch 2:  Loss: 0.6077  Accuracy: 0.9992\n",
      "Epoch  3, CIFAR-10 Batch 3:  Loss: 0.5056  Accuracy: 1.0423\n",
      "Epoch  3, CIFAR-10 Batch 4:  Loss: 0.5794  Accuracy: 0.9769\n",
      "Epoch  3, CIFAR-10 Batch 5:  Loss: 0.4891  Accuracy: 0.9512\n",
      "Epoch  4, CIFAR-10 Batch 1:  Loss: 0.5180  Accuracy: 0.9338\n",
      "Epoch  4, CIFAR-10 Batch 2:  Loss: 0.3673  Accuracy: 0.9832\n",
      "Epoch  4, CIFAR-10 Batch 3:  Loss: 0.3119  Accuracy: 0.9703\n",
      "Epoch  4, CIFAR-10 Batch 4:  Loss: 0.3760  Accuracy: 0.9066\n",
      "Epoch  4, CIFAR-10 Batch 5:  Loss: 0.2764  Accuracy: 0.9160\n",
      "Epoch  5, CIFAR-10 Batch 1:  Loss: 0.2806  Accuracy: 0.9289\n",
      "Epoch  5, CIFAR-10 Batch 2:  Loss: 0.1982  Accuracy: 0.9633\n",
      "Epoch  5, CIFAR-10 Batch 3:  Loss: 0.1681  Accuracy: 0.8944\n",
      "Epoch  5, CIFAR-10 Batch 4:  Loss: 0.2424  Accuracy: 0.8717\n",
      "Epoch  5, CIFAR-10 Batch 5:  Loss: 0.1900  Accuracy: 0.8848\n",
      "Epoch  6, CIFAR-10 Batch 1:  Loss: 0.1817  Accuracy: 0.8664\n",
      "Epoch  6, CIFAR-10 Batch 2:  Loss: 0.1057  Accuracy: 0.8821\n",
      "Epoch  6, CIFAR-10 Batch 3:  Loss: 0.1516  Accuracy: 0.8729\n",
      "Epoch  6, CIFAR-10 Batch 4:  Loss: 0.2030  Accuracy: 0.9226\n",
      "Epoch  6, CIFAR-10 Batch 5:  Loss: 0.0836  Accuracy: 0.8780\n",
      "Epoch  7, CIFAR-10 Batch 1:  Loss: 0.0969  Accuracy: 0.8643\n",
      "Epoch  7, CIFAR-10 Batch 2:  Loss: 0.0750  Accuracy: 0.8638\n",
      "Epoch  7, CIFAR-10 Batch 3:  Loss: 0.0799  Accuracy: 0.9177\n",
      "Epoch  7, CIFAR-10 Batch 4:  Loss: 0.1084  Accuracy: 0.8891\n",
      "Epoch  7, CIFAR-10 Batch 5:  Loss: 0.0453  Accuracy: 0.8807\n",
      "Epoch  8, CIFAR-10 Batch 1:  Loss: 0.0748  Accuracy: 0.8881\n",
      "Epoch  8, CIFAR-10 Batch 2:  Loss: 0.0480  Accuracy: 0.9571\n",
      "Epoch  8, CIFAR-10 Batch 3:  Loss: 0.0288  Accuracy: 0.9677\n",
      "Epoch  8, CIFAR-10 Batch 4:  Loss: 0.0494  Accuracy: 0.9449\n",
      "Epoch  8, CIFAR-10 Batch 5:  Loss: 0.0283  Accuracy: 1.0081\n",
      "Epoch  9, CIFAR-10 Batch 1:  Loss: 0.0437  Accuracy: 0.9072\n",
      "Epoch  9, CIFAR-10 Batch 2:  Loss: 0.0289  Accuracy: 0.9775\n",
      "Epoch  9, CIFAR-10 Batch 3:  Loss: 0.0208  Accuracy: 0.9724\n",
      "Epoch  9, CIFAR-10 Batch 4:  Loss: 0.0313  Accuracy: 0.9554\n",
      "Epoch  9, CIFAR-10 Batch 5:  Loss: 0.0169  Accuracy: 0.9777\n",
      "Epoch 10, CIFAR-10 Batch 1:  Loss: 0.0335  Accuracy: 0.9678\n",
      "Epoch 10, CIFAR-10 Batch 2:  Loss: 0.0194  Accuracy: 1.0382\n",
      "Epoch 10, CIFAR-10 Batch 3:  Loss: 0.0179  Accuracy: 0.9715\n",
      "Epoch 10, CIFAR-10 Batch 4:  Loss: 0.0254  Accuracy: 1.0090\n",
      "Epoch 10, CIFAR-10 Batch 5:  Loss: 0.0099  Accuracy: 0.9496\n",
      "Epoch 11, CIFAR-10 Batch 1:  Loss: 0.0147  Accuracy: 0.9836\n",
      "Epoch 11, CIFAR-10 Batch 2:  Loss: 0.0132  Accuracy: 1.0822\n",
      "Epoch 11, CIFAR-10 Batch 3:  Loss: 0.0079  Accuracy: 0.9812\n",
      "Epoch 11, CIFAR-10 Batch 4:  Loss: 0.0148  Accuracy: 1.0224\n",
      "Epoch 11, CIFAR-10 Batch 5:  Loss: 0.0115  Accuracy: 1.0368\n",
      "Epoch 12, CIFAR-10 Batch 1:  Loss: 0.0054  Accuracy: 1.1083\n",
      "Epoch 12, CIFAR-10 Batch 2:  Loss: 0.0122  Accuracy: 1.0266\n",
      "Epoch 12, CIFAR-10 Batch 3:  Loss: 0.0032  Accuracy: 1.0630\n",
      "Epoch 12, CIFAR-10 Batch 4:  Loss: 0.0067  Accuracy: 1.1418\n",
      "Epoch 12, CIFAR-10 Batch 5:  Loss: 0.0038  Accuracy: 1.0528\n",
      "Epoch 13, CIFAR-10 Batch 1:  Loss: 0.0055  Accuracy: 1.0728\n",
      "Epoch 13, CIFAR-10 Batch 2:  Loss: 0.0071  Accuracy: 1.2146\n",
      "Epoch 13, CIFAR-10 Batch 3:  Loss: 0.0053  Accuracy: 1.0748\n",
      "Epoch 13, CIFAR-10 Batch 4:  Loss: 0.0077  Accuracy: 1.0703\n",
      "Epoch 13, CIFAR-10 Batch 5:  Loss: 0.0027  Accuracy: 1.0661\n",
      "Epoch 14, CIFAR-10 Batch 1:  Loss: 0.0034  Accuracy: 1.1688\n",
      "Epoch 14, CIFAR-10 Batch 2:  Loss: 0.0036  Accuracy: 1.1077\n",
      "Epoch 14, CIFAR-10 Batch 3:  Loss: 0.0031  Accuracy: 1.1334\n",
      "Epoch 14, CIFAR-10 Batch 4:  Loss: 0.0031  Accuracy: 1.0870\n",
      "Epoch 14, CIFAR-10 Batch 5:  Loss: 0.0011  Accuracy: 1.1153\n",
      "Epoch 15, CIFAR-10 Batch 1:  Loss: 0.0020  Accuracy: 1.2177\n",
      "Epoch 15, CIFAR-10 Batch 2:  Loss: 0.0045  Accuracy: 1.1602\n",
      "Epoch 15, CIFAR-10 Batch 3:  Loss: 0.0014  Accuracy: 1.1303\n",
      "Epoch 15, CIFAR-10 Batch 4:  Loss: 0.0023  Accuracy: 1.1457\n",
      "Epoch 15, CIFAR-10 Batch 5:  Loss: 0.0010  Accuracy: 1.1841\n",
      "Epoch 16, CIFAR-10 Batch 1:  Loss: 0.0036  Accuracy: 1.2026\n",
      "Epoch 16, CIFAR-10 Batch 2:  Loss: 0.0016  Accuracy: 1.1494\n",
      "Epoch 16, CIFAR-10 Batch 3:  Loss: 0.0008  Accuracy: 1.2215\n",
      "Epoch 16, CIFAR-10 Batch 4:  Loss: 0.0015  Accuracy: 1.1412\n",
      "Epoch 16, CIFAR-10 Batch 5:  Loss: 0.0009  Accuracy: 1.2387\n",
      "Epoch 17, CIFAR-10 Batch 1:  Loss: 0.0164  Accuracy: 1.1889\n",
      "Epoch 17, CIFAR-10 Batch 2:  Loss: 0.0012  Accuracy: 1.2113\n",
      "Epoch 17, CIFAR-10 Batch 3:  Loss: 0.0033  Accuracy: 1.2411\n",
      "Epoch 17, CIFAR-10 Batch 4:  Loss: 0.0032  Accuracy: 1.1694\n",
      "Epoch 17, CIFAR-10 Batch 5:  Loss: 0.0022  Accuracy: 1.2131\n",
      "Epoch 18, CIFAR-10 Batch 1:  Loss: 0.0018  Accuracy: 1.2055\n",
      "Epoch 18, CIFAR-10 Batch 2:  Loss: 0.0008  Accuracy: 1.2028\n",
      "Epoch 18, CIFAR-10 Batch 3:  Loss: 0.0015  Accuracy: 1.2384\n",
      "Epoch 18, CIFAR-10 Batch 4:  Loss: 0.0011  Accuracy: 1.2352\n",
      "Epoch 18, CIFAR-10 Batch 5:  Loss: 0.0011  Accuracy: 1.2274\n",
      "Epoch 19, CIFAR-10 Batch 1:  Loss: 0.0017  Accuracy: 1.2445\n",
      "Epoch 19, CIFAR-10 Batch 2:  Loss: 0.0007  Accuracy: 1.2728\n",
      "Epoch 19, CIFAR-10 Batch 3:  Loss: 0.0006  Accuracy: 1.2987\n",
      "Epoch 19, CIFAR-10 Batch 4:  Loss: 0.0006  Accuracy: 1.2225\n",
      "Epoch 19, CIFAR-10 Batch 5:  Loss: 0.0004  Accuracy: 1.2046\n",
      "Epoch 20, CIFAR-10 Batch 1:  Loss: 0.0011  Accuracy: 1.2525\n",
      "Epoch 20, CIFAR-10 Batch 2:  Loss: 0.0011  Accuracy: 1.2206\n",
      "Epoch 20, CIFAR-10 Batch 3:  Loss: 0.0010  Accuracy: 1.2764\n",
      "Epoch 20, CIFAR-10 Batch 4:  Loss: 0.0005  Accuracy: 1.2529\n",
      "Epoch 20, CIFAR-10 Batch 5:  Loss: 0.0010  Accuracy: 1.2748\n",
      "Epoch 21, CIFAR-10 Batch 1:  Loss: 0.0005  Accuracy: 1.2965\n",
      "Epoch 21, CIFAR-10 Batch 2:  Loss: 0.0013  Accuracy: 1.2709\n",
      "Epoch 21, CIFAR-10 Batch 3:  Loss: 0.0002  Accuracy: 1.2910\n",
      "Epoch 21, CIFAR-10 Batch 4:  Loss: 0.0007  Accuracy: 1.2255\n",
      "Epoch 21, CIFAR-10 Batch 5:  Loss: 0.0051  Accuracy: 1.2801\n",
      "Epoch 22, CIFAR-10 Batch 1:  Loss: 0.0011  Accuracy: 1.2929\n",
      "Epoch 22, CIFAR-10 Batch 2:  Loss: 0.0004  Accuracy: 1.2851\n",
      "Epoch 22, CIFAR-10 Batch 3:  Loss: 0.0001  Accuracy: 1.2811\n",
      "Epoch 22, CIFAR-10 Batch 4:  Loss: 0.0004  Accuracy: 1.3226\n",
      "Epoch 22, CIFAR-10 Batch 5:  Loss: 0.0002  Accuracy: 1.3194\n",
      "Epoch 23, CIFAR-10 Batch 1:  Loss: 0.0012  Accuracy: 1.3038\n",
      "Epoch 23, CIFAR-10 Batch 2:  Loss: 0.0006  Accuracy: 1.2634\n",
      "Epoch 23, CIFAR-10 Batch 3:  Loss: 0.0006  Accuracy: 1.3198\n",
      "Epoch 23, CIFAR-10 Batch 4:  Loss: 0.0008  Accuracy: 1.2891\n",
      "Epoch 23, CIFAR-10 Batch 5:  Loss: 0.0003  Accuracy: 1.3647\n",
      "Epoch 24, CIFAR-10 Batch 1:  Loss: 0.0003  Accuracy: 1.3365\n",
      "Epoch 24, CIFAR-10 Batch 2:  Loss: 0.0002  Accuracy: 1.3479\n",
      "Epoch 24, CIFAR-10 Batch 3:  Loss: 0.0003  Accuracy: 1.3741\n",
      "Epoch 24, CIFAR-10 Batch 4:  Loss: 0.0001  Accuracy: 1.3128\n",
      "Epoch 24, CIFAR-10 Batch 5:  Loss: 0.0016  Accuracy: 1.3321\n",
      "Epoch 25, CIFAR-10 Batch 1:  Loss: 0.0005  Accuracy: 1.2921\n",
      "Epoch 25, CIFAR-10 Batch 2:  Loss: 0.0005  Accuracy: 1.3037\n",
      "Epoch 25, CIFAR-10 Batch 3:  Loss: 0.0003  Accuracy: 1.2815\n",
      "Epoch 25, CIFAR-10 Batch 4:  Loss: 0.0010  Accuracy: 1.3095\n",
      "Epoch 25, CIFAR-10 Batch 5:  Loss: 0.0004  Accuracy: 1.2915\n",
      "Epoch 26, CIFAR-10 Batch 1:  Loss: 0.0004  Accuracy: 1.3694\n",
      "Epoch 26, CIFAR-10 Batch 2:  Loss: 0.0008  Accuracy: 1.3320\n",
      "Epoch 26, CIFAR-10 Batch 3:  Loss: 0.0001  Accuracy: 1.3232\n",
      "Epoch 26, CIFAR-10 Batch 4:  Loss: 0.0003  Accuracy: 1.2613\n",
      "Epoch 26, CIFAR-10 Batch 5:  Loss: 0.0013  Accuracy: 1.3257\n",
      "Epoch 27, CIFAR-10 Batch 1:  Loss: 0.0001  Accuracy: 1.3693\n",
      "Epoch 27, CIFAR-10 Batch 2:  Loss: 0.0001  Accuracy: 1.3759\n",
      "Epoch 27, CIFAR-10 Batch 3:  Loss: 0.0027  Accuracy: 1.4021\n",
      "Epoch 27, CIFAR-10 Batch 4:  Loss: 0.0011  Accuracy: 1.3918\n",
      "Epoch 27, CIFAR-10 Batch 5:  Loss: 0.0004  Accuracy: 1.4342\n",
      "Epoch 28, CIFAR-10 Batch 1:  Loss: 0.0004  Accuracy: 1.3396\n",
      "Epoch 28, CIFAR-10 Batch 2:  Loss: 0.0004  Accuracy: 1.3896\n",
      "Epoch 28, CIFAR-10 Batch 3:  Loss: 0.0002  Accuracy: 1.3213\n",
      "Epoch 28, CIFAR-10 Batch 4:  Loss: 0.0007  Accuracy: 1.2719\n",
      "Epoch 28, CIFAR-10 Batch 5:  Loss: 0.0003  Accuracy: 1.4009\n",
      "Epoch 29, CIFAR-10 Batch 1:  Loss: 0.0003  Accuracy: 1.3577\n",
      "Epoch 29, CIFAR-10 Batch 2:  Loss: 0.0008  Accuracy: 1.3648\n",
      "Epoch 29, CIFAR-10 Batch 3:  Loss: 0.0002  Accuracy: 1.3390\n",
      "Epoch 29, CIFAR-10 Batch 4:  Loss: 0.0002  Accuracy: 1.3521\n",
      "Epoch 29, CIFAR-10 Batch 5:  Loss: 0.0001  Accuracy: 1.4153\n",
      "Epoch 30, CIFAR-10 Batch 1:  Loss: 0.0002  Accuracy: 1.3956\n",
      "Epoch 30, CIFAR-10 Batch 2:  Loss: 0.0001  Accuracy: 1.3520\n",
      "Epoch 30, CIFAR-10 Batch 3:  Loss: 0.0006  Accuracy: 1.3525\n",
      "Epoch 30, CIFAR-10 Batch 4:  Loss: 0.0011  Accuracy: 1.3228\n",
      "Epoch 30, CIFAR-10 Batch 5:  Loss: 0.0001  Accuracy: 1.3554\n"
     ]
    }
   ],
   "source": [
    "\"\"\"\n",
    "DON'T MODIFY ANYTHING IN THIS CELL\n",
    "\"\"\"\n",
    "save_model_path = './image_classification'\n",
    "\n",
    "print('Training...')\n",
    "with tf.Session() as sess:\n",
    "    # Initializing the variables\n",
    "    sess.run(tf.global_variables_initializer())\n",
    "    \n",
    "    # Training cycle\n",
    "    for epoch in range(epochs):\n",
    "        # Loop over all batches\n",
    "        n_batches = 5\n",
    "        for batch_i in range(1, n_batches + 1):\n",
    "            for batch_features, batch_labels in helper.load_preprocess_training_batch(batch_i, batch_size):\n",
    "                train_neural_network(sess, optimizer, keep_probability, batch_features, batch_labels)\n",
    "            print('Epoch {:>2}, CIFAR-10 Batch {}:  '.format(epoch + 1, batch_i), end='')\n",
    "            print_stats(sess, batch_features, batch_labels, cost, accuracy)\n",
    "            \n",
    "    # Save Model\n",
    "    saver = tf.train.Saver()\n",
    "    save_path = saver.save(sess, save_model_path)"
   ]
  },
  {
   "cell_type": "markdown",
   "metadata": {
    "deletable": true,
    "editable": true
   },
   "source": [
    "# Checkpoint\n",
    "The model has been saved to disk.\n",
    "## Test Model\n",
    "Test your model against the test dataset.  This will be your final accuracy. You should have an accuracy greater than 50%. If you don't, keep tweaking the model architecture and parameters."
   ]
  },
  {
   "cell_type": "code",
   "execution_count": 18,
   "metadata": {
    "collapsed": false,
    "deletable": true,
    "editable": true
   },
   "outputs": [
    {
     "name": "stdout",
     "output_type": "stream",
     "text": [
      "Testing Accuracy: 0.72783203125\n",
      "\n"
     ]
    },
    {
     "data": {
      "image/png": "[encoded data removed]",
      "text/plain": [
       "<matplotlib.figure.Figure at 0x7f883767f748>"
      ]
     },
     "metadata": {
      "image/png": {
       "height": 319,
       "width": 355
      }
     },
     "output_type": "display_data"
    }
   ],
   "source": [
    "\"\"\"\n",
    "DON'T MODIFY ANYTHING IN THIS CELL\n",
    "\"\"\"\n",
    "%matplotlib inline\n",
    "%config InlineBackend.figure_format = 'retina'\n",
    "\n",
    "import tensorflow as tf\n",
    "import pickle\n",
    "import helper\n",
    "import random\n",
    "\n",
    "# Set batch size if not already set\n",
    "try:\n",
    "    if batch_size:\n",
    "        pass\n",
    "except NameError:\n",
    "    batch_size = 64\n",
    "\n",
    "save_model_path = './image_classification'\n",
    "n_samples = 4\n",
    "top_n_predictions = 3\n",
    "\n",
    "def test_model():\n",
    "    \"\"\"\n",
    "    Test the saved model against the test dataset\n",
    "    \"\"\"\n",
    "\n",
    "    test_features, test_labels = pickle.load(open('preprocess_training.p', mode='rb'))\n",
    "    loaded_graph = tf.Graph()\n",
    "\n",
    "    with tf.Session(graph=loaded_graph) as sess:\n",
    "        # Load model\n",
    "        loader = tf.train.import_meta_graph(save_model_path + '.meta')\n",
    "        loader.restore(sess, save_model_path)\n",
    "\n",
    "        # Get Tensors from loaded model\n",
    "        loaded_x = loaded_graph.get_tensor_by_name('x:0')\n",
    "        loaded_y = loaded_graph.get_tensor_by_name('y:0')\n",
    "        loaded_keep_prob = loaded_graph.get_tensor_by_name('keep_prob:0')\n",
    "        loaded_logits = loaded_graph.get_tensor_by_name('logits:0')\n",
    "        loaded_acc = loaded_graph.get_tensor_by_name('accuracy:0')\n",
    "        \n",
    "        # Get accuracy in batches for memory limitations\n",
    "        test_batch_acc_total = 0\n",
    "        test_batch_count = 0\n",
    "        \n",
    "        for train_feature_batch, train_label_batch in helper.batch_features_labels(test_features, test_labels, batch_size):\n",
    "            test_batch_acc_total += sess.run(\n",
    "                loaded_acc,\n",
    "                feed_dict={loaded_x: train_feature_batch, loaded_y: train_label_batch, loaded_keep_prob: 1.0})\n",
    "            test_batch_count += 1\n",
    "\n",
    "        print('Testing Accuracy: {}\\n'.format(test_batch_acc_total/test_batch_count))\n",
    "\n",
    "        # Print Random Samples\n",
    "        random_test_features, random_test_labels = tuple(zip(*random.sample(list(zip(test_features, test_labels)), n_samples)))\n",
    "        random_test_predictions = sess.run(\n",
    "            tf.nn.top_k(tf.nn.softmax(loaded_logits), top_n_predictions),\n",
    "            feed_dict={loaded_x: random_test_features, loaded_y: random_test_labels, loaded_keep_prob: 1.0})\n",
    "        helper.display_image_predictions(random_test_features, random_test_labels, random_test_predictions)\n",
    "\n",
    "\n",
    "test_model()"
   ]
  },
  {
   "cell_type": "markdown",
   "metadata": {
    "deletable": true,
    "editable": true
   },
   "source": [
    "## Why 50-70% Accuracy?\n",
    "You might be wondering why you can't get an accuracy any higher. First things first, 50% isn't bad for a simple CNN.  Pure guessing would get you 10% accuracy. However, you might notice people are getting scores [well above 70%](http://rodrigob.github.io/are_we_there_yet/build/classification_datasets_results.html#43494641522d3130).  That's because we haven't taught you all there is to know about neural networks. We still need to cover a few more techniques.\n",
    "## Submitting This Project\n",
    "When submitting this project, make sure to run all the cells before saving the notebook.  Save the notebook file as \"dlnd_image_classification.ipynb\" and save it as a HTML file under \"File\" -> \"Download as\".  Include the \"helper.py\" and \"problem_unittests.py\" files in your submission."
   ]
  }
 ],
 "metadata": {
  "kernelspec": {
   "display_name": "Python 3",
   "language": "python",
   "name": "python3"
  },
  "language_info": {
   "codemirror_mode": {
    "name": "ipython",
    "version": 3
   },
   "file_extension": ".py",
   "mimetype": "text/x-python",
   "name": "python",
   "nbconvert_exporter": "python",
   "pygments_lexer": "ipython3",
   "version": "3.5.2"
  },
  "widgets": {
   "state": {},
   "version": "1.1.2"
  }
 },
 "nbformat": 4,
 "nbformat_minor": 0
}
